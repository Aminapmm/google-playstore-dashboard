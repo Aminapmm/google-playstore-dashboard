{
 "cells": [
  {
   "cell_type": "markdown",
   "metadata": {},
   "source": [
    "<h3>Building CRUD API </h3>"
   ]
  },
  {
   "cell_type": "code",
   "execution_count": 4,
   "metadata": {},
   "outputs": [],
   "source": [
    "from sqlalchemy import Column, Integer, String, Float, Boolean, DateTime, ForeignKey, BigInteger, Text\n",
    "from sqlalchemy.orm import relationship, declarative_base\n",
    "\n",
    "Base = declarative_base()\n",
    "\n",
    "class Developer(Base):\n",
    "    __tablename__ = 'developers'\n",
    "\n",
    "    developer_id = Column(Integer, primary_key=True)\n",
    "    developer_website = Column(String)\n",
    "    developer_email = Column(String)\n",
    "\n",
    "    # Relationship\n",
    "    apps = relationship(\"App\", back_populates=\"developer\")\n",
    "\n",
    "class Category(Base):\n",
    "    __tablename__ = 'categories'\n",
    "\n",
    "    category_id = Column(Integer, primary_key=True)\n",
    "    category = Column(String, nullable=False)\n",
    "\n",
    "    # Relationship\n",
    "    apps = relationship(\"App\", back_populates=\"category\")\n",
    "\n",
    "class App(Base):\n",
    "    __tablename__ = 'apps'\n",
    "\n",
    "    app_id = Column(Integer, primary_key=True)\n",
    "    app_name = Column(String, nullable=False)\n",
    "    developer_id = Column(Integer, ForeignKey('developers.developer_id'))\n",
    "    category_id = Column(Integer, ForeignKey('categories.category_id'))\n",
    "    rating = Column(Float)\n",
    "\n",
    "    # Relationships\n",
    "    developer = relationship(\"Developer\", back_populates=\"apps\")\n",
    "    category = relationship(\"Category\", back_populates=\"apps\")\n"
   ]
  },
  {
   "cell_type": "code",
   "execution_count": null,
   "metadata": {},
   "outputs": [
    {
     "name": "stderr",
     "output_type": "stream",
     "text": [
      "g:\\anaconda3\\Lib\\site-packages\\pydantic\\_internal\\_config.py:341: UserWarning: Valid config keys have changed in V2:\n",
      "* 'orm_mode' has been renamed to 'from_attributes'\n",
      "  warnings.warn(message, UserWarning)\n"
     ]
    }
   ],
   "source": [
    "from pydantic import BaseModel\n",
    "from typing import Optional\n",
    "\n",
    "# Developer Schema\n",
    "class DeveloperSchema(BaseModel):\n",
    "    developer_id: str\n",
    "    developer_website: Optional[str]\n",
    "    developer_email: Optional[str]\n",
    "\n",
    "    class Config:\n",
    "        orm_mode = True\n",
    "\n",
    "# Category Schema\n",
    "class CategorySchema(BaseModel):\n",
    "    category_id: int\n",
    "    category: str\n",
    "\n",
    "    class Config:\n",
    "        orm_mode = True\n",
    "        \n",
    "\n",
    "# App Schema\n",
    "class AppSchema(BaseModel):\n",
    "    app_id: str\n",
    "    app_name: str\n",
    "    developer_id: int\n",
    "    category_id: int\n",
    "    rating: Optional[float]\n",
    "\n",
    "    class Config:\n",
    "        orm_mode = True\n"
   ]
  }
 ],
 "metadata": {
  "kernelspec": {
   "display_name": "base",
   "language": "python",
   "name": "python3"
  },
  "language_info": {
   "codemirror_mode": {
    "name": "ipython",
    "version": 3
   },
   "file_extension": ".py",
   "mimetype": "text/x-python",
   "name": "python",
   "nbconvert_exporter": "python",
   "pygments_lexer": "ipython3",
   "version": "3.12.7"
  }
 },
 "nbformat": 4,
 "nbformat_minor": 2
}
