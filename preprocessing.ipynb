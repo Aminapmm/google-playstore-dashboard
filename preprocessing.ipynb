{
 "cells": [
  {
   "cell_type": "code",
   "execution_count": 1,
   "metadata": {},
   "outputs": [],
   "source": [
    "import pandas as pd\n",
    "from sqlalchemy import create_engine, URL"
   ]
  },
  {
   "cell_type": "markdown",
   "metadata": {},
   "source": [
    "<h3>Loading Dataset</h3>"
   ]
  },
  {
   "cell_type": "code",
   "execution_count": 2,
   "metadata": {},
   "outputs": [],
   "source": [
    "df = pd.read_csv(\"Google-Playstore.csv\")"
   ]
  },
  {
   "cell_type": "code",
   "execution_count": null,
   "metadata": {},
   "outputs": [],
   "source": [
    "#Columns With Missing Values\n",
    "df.count()[df.count()<df.shape[0]]"
   ]
  },
  {
   "cell_type": "code",
   "execution_count": 3,
   "metadata": {},
   "outputs": [],
   "source": [
    "df1 = df.copy()\n",
    "#Drop Missing Values\n",
    "#df.dropna(inplace=True)\n",
    "\n",
    "#Drop Duplicates\n",
    "df1.drop_duplicates(inplace=True)\n",
    "\n",
    "\n",
    "#Columns to consider for Drop missing values\n",
    "df1.dropna(subset=['Developer Id', 'App Name', 'Installs', 'Minimum Installs'], inplace=True)\n",
    "\n",
    "#Filling Missing Values on some Columns is preffered over dropping the entire row\n",
    "cols_to_be_filled = ['Privacy Policy','Developer Website', 'Developer Email','Currency',\n",
    "                     'Rating', 'Rating Count', 'Minimum Android']\n",
    "\n",
    "\n",
    "df1['Size'] = pd.to_numeric(df['Size'].str.removesuffix(\"M\"), errors='coerce', downcast='float').fillna(0)\n",
    "#Fill Missing Values in Released Column with Last Update\n",
    "#Missing Dates in Released Column\n",
    "missing_released = df['Released'].isna()\n",
    "df1.loc[missing_released,'Released'] = df.loc[missing_released,'Last Updated']\n",
    "\n",
    "#Converting date fields to datetime\n",
    "df1['Released'] = pd.to_datetime(df['Released'], format= \"%b %d, %Y\")\n",
    "df1['Last Updated'] = pd.to_datetime(df['Last Updated'], format= \"%b %d, %Y\")\n",
    "\n",
    "import numpy as np\n",
    "#Generate Category Id for Categories Table\n",
    "category_id = { c:i for i,c in enumerate(df['Category'].unique(),1)}\n",
    "df1['Category Id'] = df['Category'].map(category_id)\n",
    "\n",
    "#Exporting the preprocessed Dataset\n",
    "df1.to_csv(\"preprocessed_data.csv\",index=False)"
   ]
  },
  {
   "cell_type": "markdown",
   "metadata": {},
   "source": [
    "<h3>Connect To Database</h3>"
   ]
  },
  {
   "cell_type": "code",
   "execution_count": null,
   "metadata": {},
   "outputs": [],
   "source": [
    "#df1 = pd.read_csv('preprocessed_data.csv')"
   ]
  },
  {
   "cell_type": "code",
   "execution_count": 4,
   "metadata": {},
   "outputs": [],
   "source": [
    "database_columns = {col:col.lower().replace(\" \",\"_\") for col in df1.columns}\n",
    "df1.rename(columns=database_columns, inplace=True)"
   ]
  },
  {
   "cell_type": "code",
   "execution_count": 5,
   "metadata": {},
   "outputs": [],
   "source": [
    "# Create Engine for PostgreSQL\n",
    "url_object = URL.create(\n",
    "    \"postgresql+psycopg2\",\n",
    "    username=\"postgres\",\n",
    "    password=\"123456\",  # plain (unescaped) text\n",
    "    host=\"localhost\",\n",
    "    database=\"googleplay\",\n",
    "    port=5432\n",
    "    )\n",
    "\n",
    "engine = create_engine(url_object)\n",
    "db = engine.connect()"
   ]
  },
  {
   "cell_type": "code",
   "execution_count": 6,
   "metadata": {},
   "outputs": [],
   "source": [
    "developers_columns = [\n",
    "    \"developer_id\",         # Primary Key\n",
    "    \"developer_website\",    # Developer's website\n",
    "    \"developer_email\"       # Developer's email\n",
    "]\n",
    "\n",
    "categories_columns = [\n",
    "    \"category_id\",          # Primary Key\n",
    "    \"category\"              # Category name\n",
    "]\n",
    "\n",
    "apps_columns = [\n",
    "    \"app_id\",               # Primary Key\n",
    "    \"app_name\",             # App name\n",
    "    \"developer_id\",         # Foreign Key referencing developers(developer_id)\n",
    "    \"category_id\",          # Foreign Key referencing categories(category_id)\n",
    "    \"rating\",               # App rating\n",
    "    \"rating_count\",         # Number of ratings received\n",
    "    \"installs\",             # Install count as a string (e.g., \"1M+\")\n",
    "    \"minimum_installs\",     # Minimum number of installs\n",
    "    \"maximum_installs\",     # Maximum number of installs\n",
    "    \"minimum_android\",\n",
    "    \"free\",                 # Whether the app is free or not\n",
    "    \"price\",                # Price of the app (if applicable)\n",
    "    \"currency\",             # Currency code (e.g., USD)\n",
    "    \"size\",                 # Size of the app in MB or GB (optional)\n",
    "    \"released\",             # Release date of the app\n",
    "    \"last_updated\",         # Last updated date of the app\n",
    "    \"content_rating\",       # Content rating (e.g., Everyone, Teen)\n",
    "    \"privacy_policy\",       # URL to the privacy policy\n",
    "    \"ad_supported\",         # Whether the app is ad-supported or not\n",
    "    \"in_app_purchases\",     # Whether the app supports in-app purchases or not\n",
    "    \"editors_choice\"        # Whether the app is an editor's choice or not\n",
    "]\n"
   ]
  },
  {
   "cell_type": "markdown",
   "metadata": {},
   "source": [
    "<h4>Below Cell Inserts Dataset According to Designed Schema</h4>"
   ]
  },
  {
   "cell_type": "code",
   "execution_count": null,
   "metadata": {},
   "outputs": [],
   "source": [
    "#df1 = df1.iloc[:100].copy() #for Test "
   ]
  },
  {
   "cell_type": "code",
   "execution_count": null,
   "metadata": {},
   "outputs": [],
   "source": [
    "from sqlalchemy import Column, Integer, String, Float, Boolean, DateTime, ForeignKey, BigInteger, Text\n",
    "from sqlalchemy.orm import relationship,declarative_base\n",
    "\n",
    "Base = declarative_base()\n",
    "\n",
    "class Developer(Base):\n",
    "    __tablename__ = 'developers'\n",
    "\n",
    "    developer_id = Column(Integer, primary_key=True)\n",
    "    developer_website = Column(String)\n",
    "    developer_email = Column(String)\n",
    "\n",
    "    # Relationship\n",
    "    apps = relationship(\"App\", back_populates=\"developer\")\n",
    "\n",
    "class Category(Base):\n",
    "    __tablename__ = 'categories'\n",
    "\n",
    "    category_id = Column(Integer, primary_key=True)\n",
    "    category = Column(String, nullable=False)\n",
    "\n",
    "    # Relationship\n",
    "    apps = relationship(\"App\", back_populates=\"category\")\n",
    "\n",
    "class App(Base):\n",
    "    __tablename__ = 'apps'\n",
    "\n",
    "    app_id = Column(Integer, primary_key=True)\n",
    "    app_name = Column(String, nullable=False)\n",
    "    developer_id = Column(Integer, ForeignKey('developers.developer_id'))\n",
    "    category_id = Column(Integer, ForeignKey('categories.category_id'))\n",
    "    rating = Column(Float)\n",
    "    rating_count = Column(BigInteger)\n",
    "    installs = Column(String)\n",
    "    minimum_installs = Column(BigInteger)\n",
    "    maximum_installs = Column(BigInteger)\n",
    "    minimum_android = Column(String)\n",
    "    free = Column(Boolean)\n",
    "    price = Column(Float)\n",
    "    currency = Column(String)\n",
    "    size = Column(Float)\n",
    "    released = Column(DateTime)\n",
    "    last_updated = Column(DateTime)\n",
    "    content_rating = Column(String)\n",
    "    privacy_policy = Column(Text)\n",
    "    ad_supported = Column(Boolean)\n",
    "    in_app_purchases = Column(Boolean)\n",
    "    editors_choice = Column(Boolean)\n",
    "\n",
    "    # Relationships\n",
    "    developer = relationship(\"Developer\", back_populates=\"apps\")\n",
    "    category = relationship(\"Category\", back_populates=\"apps\")\n",
    "\n",
    "Base.metadata.create_all(engine)\n"
   ]
  },
  {
   "cell_type": "code",
   "execution_count": 8,
   "metadata": {},
   "outputs": [],
   "source": [
    "with engine.begin():\n",
    "\n",
    "    #Insert Developers\n",
    "    developers = df1.loc[:,developers_columns].drop_duplicates(subset=['developer_id'])\n",
    "    developers.to_sql('developers', con = engine, index=False, if_exists='append', schema='googleplay', method='multi')\n",
    "\n",
    "    #Insert categories\n",
    "    categories = df1.loc[:,categories_columns].drop_duplicates(subset=['category_id'])\n",
    "    categories.to_sql('categories', con = engine, index=False, if_exists='append', schema='googleplay', method='multi')\n",
    "\n",
    "    #Insert Apps \n",
    "    apps = df1.loc[:,apps_columns]\n",
    "    apps.to_sql('apps', con = engine, index=False, if_exists='append', schema='googleplay', method='multi',chunksize=10000)\n",
    "\n"
   ]
  },
  {
   "cell_type": "code",
   "execution_count": null,
   "metadata": {},
   "outputs": [],
   "source": []
  }
 ],
 "metadata": {
  "kernelspec": {
   "display_name": "Python 3",
   "language": "python",
   "name": "python3"
  },
  "language_info": {
   "codemirror_mode": {
    "name": "ipython",
    "version": 3
   },
   "file_extension": ".py",
   "mimetype": "text/x-python",
   "name": "python",
   "nbconvert_exporter": "python",
   "pygments_lexer": "ipython3",
   "version": "3.12.4"
  }
 },
 "nbformat": 4,
 "nbformat_minor": 2
}
