{
 "cells": [
  {
   "cell_type": "code",
   "execution_count": 4,
   "metadata": {},
   "outputs": [],
   "source": [
    "from sqlalchemy import text\n",
    "from app import engine\n",
    "import time\n",
    "import pandas as pd\n"
   ]
  },
  {
   "cell_type": "code",
   "execution_count": null,
   "metadata": {},
   "outputs": [],
   "source": [
    "database = []\n",
    "query_plan_log = \"query_plan_log.txt\"\n",
    "# Example in Python using a decorator\n",
    "def log_query_time(func):\n",
    "    def wrapper(*args,**kwargs):\n",
    "        start = time.perf_counter()\n",
    "        result = func(args[0], args[1], description = kwargs['description'])\n",
    "        duration = time.perf_counter() - start\n",
    "\n",
    "        query_duration = {'query':args[0], 'duration':duration, 'Description':kwargs['description']}\n",
    "        database.append(query_duration)\n",
    "        with open(query_plan_log,'a') as f:\n",
    "            f.write(f'{query_duration}\\n')\n",
    "        print(query_duration)\n",
    "        return result\n",
    "    return wrapper\n",
    "\n",
    "@log_query_time\n",
    "def execute_query(query,conn,description=\"\"):\n",
    "    # Database execution logic\n",
    "    df = pd.read_sql_query(query,con=conn)\n",
    "    #return df"
   ]
  },
  {
   "cell_type": "code",
   "execution_count": null,
   "metadata": {},
   "outputs": [],
   "source": [
    "candidate_index = ['Category_id','Content_Rating','Price','Rating']"
   ]
  },
  {
   "cell_type": "code",
   "execution_count": 90,
   "metadata": {},
   "outputs": [
    {
     "name": "stdout",
     "output_type": "stream",
     "text": [
      "{'query': \"SELECT * FROM APPS  INNER JOIN Categories on apps.category_id=Categories.category_id    WHERE price between 1 AND 10 AND category='Education' AND rating >= 2.5 ;\", 'duration': 0.05136730000958778, 'Description': 'Using Index on idx_apps_price_rating_content_rating_category_id'}\n",
      "{'query': \"SELECT * FROM APPS  INNER JOIN Categories on apps.category_id=Categories.category_id    WHERE price between 1 AND 10 AND category='Education' AND rating >= 2.5 ;\", 'duration': 0.37495769999804907, 'Description': 'Not Using Index For idx_apps_price_rating_content_rating_category_id'}\n"
     ]
    }
   ],
   "source": [
    "idxname = \"price,rating,content_rating,category_id\" #Example\n",
    "sql_create_index = text(f\"CREATE INDEX IF NOT EXISTS idx_apps_{idxname.replace(\",\",\"_\").lower()} ON apps({idxname});\")\n",
    "sql_drop_index = text(f\"DROP INDEX IF EXISTS idx_apps_{idxname.replace(\",\",\"_\")};\")\n",
    "\n",
    "with engine.connect() as conn:\n",
    "    #Drop Existing Indexes\n",
    "    #Query Indexes all existing indexes\n",
    "    query_index = \"SELECT INDEXNAME, TABLENAME FROM PG_INDEXES\\\n",
    "    WHERE SCHEMANAME = 'googleplay' ORDER BY INDEXNAME\"\n",
    "    indexes = pd.read_sql_query(query_index,con=conn)\n",
    "    for idxname in indexes.indexname:\n",
    "        if idxname.startswith('idx'):\n",
    "            conn.execute(text(f\"DROP INDEX {idxname};\"))\n",
    "        conn.commit()\n",
    "\n",
    "    #First Set index \n",
    "    try:\n",
    "        conn.execute(sql_create_index)\n",
    "        conn.commit()\n",
    "    except Exception as e:\n",
    "        print(f\"Failed to create index: {e}\")\n",
    "\n",
    "    query = \"SELECT * FROM APPS  INNER JOIN Categories on apps.category_id=Categories.category_id\\\n",
    "    WHERE price between 1 AND 10 AND category='Education' AND rating >= 2.5 ;\"\n",
    "\n",
    "    execute_query(query,conn,description=f\"Using Index on {idxname}\")\n",
    "\n",
    "    #Drop Index\n",
    "    conn.execute(sql_drop_index)\n",
    "    conn.commit()\n",
    "    execute_query(query,conn,description=f\"Not Using Index For {idxname}\")"
   ]
  },
  {
   "cell_type": "code",
   "execution_count": 78,
   "metadata": {},
   "outputs": [],
   "source": [
    "#After Experimenting multiple indexes show the best result\n",
    "logs = sorted(database,key=lambda x:x['duration'])"
   ]
  },
  {
   "cell_type": "code",
   "execution_count": 81,
   "metadata": {},
   "outputs": [
    {
     "data": {
      "text/plain": [
       "[{'query': \"SELECT * FROM APPS  INNER JOIN Categories on apps.category_id=Categories.category_id    WHERE rating > 3.5 AND price >= 4.99  AND category='Entertainment' AND content_rating='Teen';\",\n",
       "  'duration': 0.004771700012497604,\n",
       "  'Description': 'Using Index on price,rating,content_rating,category_id'},\n",
       " {'query': \"SELECT * FROM APPS  INNER JOIN Categories on apps.category_id=Categories.category_id    WHERE rating > 3.5 AND price >= 4.99  AND category='Entertainment' AND content_rating='Teen';\",\n",
       "  'duration': 0.005151799996383488,\n",
       "  'Description': 'Using Index on price,rating,category_id'},\n",
       " {'query': \"SELECT * FROM APPS  INNER JOIN Categories on apps.category_id=Categories.category_id    WHERE rating > 3.5 AND price >= 4.99  AND category='Entertainment' AND content_rating='Teen';\",\n",
       "  'duration': 0.005164400005014613,\n",
       "  'Description': 'Using Index on price,rating,category_id,content_rating'},\n",
       " {'query': \"SELECT * FROM APPS  INNER JOIN Categories on apps.category_id=Categories.category_id    WHERE rating > 3.5 AND price >= 4.99  AND category='Entertainment' AND content_rating='Teen';\",\n",
       "  'duration': 0.006120599980931729,\n",
       "  'Description': 'Using Index on price,rating,category_id'},\n",
       " {'query': \"SELECT * FROM APPS  INNER JOIN Categories on apps.category_id=Categories.category_id    WHERE rating > 3.5 AND price >= 4.99  AND category='Entertainment' AND content_rating='Everyone';\",\n",
       "  'duration': 0.006615999998757616,\n",
       "  'Description': 'Using Index on price,rating,category_id,content_rating'},\n",
       " {'query': \"SELECT * FROM APPS  INNER JOIN Categories on apps.category_id=Categories.category_id    WHERE rating > 3.5 AND price >= 4.99  AND category='Health & Fitness' AND content_rating='Everyone';\",\n",
       "  'duration': 0.007453099999111146,\n",
       "  'Description': 'Using Index on price,rating,content_rating,category_id'},\n",
       " {'query': \"SELECT * FROM APPS  INNER JOIN Categories on apps.category_id=Categories.category_id    WHERE rating > 3.5 AND price >= 4.99  AND category='Entertainment' AND content_rating='Teen';\",\n",
       "  'duration': 0.04504490000545047,\n",
       "  'Description': 'Using Index on price,rating'},\n",
       " {'query': \"SELECT * FROM APPS  INNER JOIN Categories on apps.category_id=Categories.category_id    WHERE rating > 3.5 AND price >= 4.99  AND category='Entertainment' AND content_rating='Teen';\",\n",
       "  'duration': 0.24507309999899007,\n",
       "  'Description': 'Using Index on rating'},\n",
       " {'query': \"SELECT * FROM APPS  INNER JOIN Categories on apps.category_id=Categories.category_id    WHERE rating > 3.5 AND price >= 4.99  AND category='Entertainment' AND content_rating='Teen';\",\n",
       "  'duration': 0.24706729999161325,\n",
       "  'Description': 'Not Using Index For rating'},\n",
       " {'query': \"SELECT * FROM APPS  INNER JOIN Categories on apps.category_id=Categories.category_id    WHERE rating > 3.5 AND price >= 4.99  AND category='Entertainment' AND content_rating='Teen';\",\n",
       "  'duration': 0.26326169999083504,\n",
       "  'Description': 'Not Using Index For category_id'}]"
      ]
     },
     "execution_count": 81,
     "metadata": {},
     "output_type": "execute_result"
    }
   ],
   "source": [
    "logs[:10]"
   ]
  }
 ],
 "metadata": {
  "kernelspec": {
   "display_name": "Python 3",
   "language": "python",
   "name": "python3"
  },
  "language_info": {
   "codemirror_mode": {
    "name": "ipython",
    "version": 3
   },
   "file_extension": ".py",
   "mimetype": "text/x-python",
   "name": "python",
   "nbconvert_exporter": "python",
   "pygments_lexer": "ipython3",
   "version": "3.12.4"
  }
 },
 "nbformat": 4,
 "nbformat_minor": 2
}
